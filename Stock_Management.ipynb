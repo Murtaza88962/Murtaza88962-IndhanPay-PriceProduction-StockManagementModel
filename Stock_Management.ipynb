{
 "cells": [
  {
   "cell_type": "markdown",
   "id": "b68b5800",
   "metadata": {},
   "source": [
    "# Stock Management\n",
    "\n",
    "Predict future sales and update inventory.\n"
   ]
  },
  {
   "cell_type": "code",
   "execution_count": null,
   "id": "285e5f26",
   "metadata": {
    "vscode": {
     "languageId": "plaintext"
    }
   },
   "outputs": [],
   "source": [
    "import sys\n",
    "sys.path.append('../src')\n",
    "\n",
    "import pandas as pd\n",
    "from data_preprocessing import load_data, preprocess_data\n",
    "from model_training import load_model\n",
    "from stock_update_logic import predict_future_sales, update_stock\n",
    "\n",
    "# Load\n",
    "petrol_df, sales_df = load_data('../data/raw/petrol_price.csv', '../data/raw/product_sales.csv')\n",
    "X, y = preprocess_data(petrol_df, sales_df)\n",
    "\n",
    "# Load model\n",
    "model = load_model('../data/processed/random_forest_model.pkl')\n",
    "\n",
    "# Predict\n",
    "predicted_sales = predict_future_sales(model, X)\n",
    "\n",
    "# Update stock\n",
    "updated_sales_df = update_stock(sales_df, predicted_sales)\n",
    "\n",
    "# Save updated stock\n",
    "updated_sales_df.to_csv('../data/processed/updated_stock.csv', index=False)\n",
    "\n",
    "# View updated stock\n",
    "display(updated_sales_df[['Product', 'Stock_Available', 'Predicted_Units_Sold', 'Updated_Stock']])\n"
   ]
  }
 ],
 "metadata": {
  "language_info": {
   "name": "python"
  }
 },
 "nbformat": 4,
 "nbformat_minor": 5
}
