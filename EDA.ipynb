{
 "cells": [
  {
   "cell_type": "markdown",
   "id": "9b66fb5d",
   "metadata": {},
   "source": [
    "# Exploratory Data Analysis\n",
    "\n",
    "1. Load data\n",
    "2. Visualize key insights"
   ]
  },
  {
   "cell_type": "code",
   "execution_count": null,
   "id": "329e1008",
   "metadata": {
    "vscode": {
     "languageId": "plaintext"
    }
   },
   "outputs": [],
   "source": [
    "import pandas as pd\n",
    "import seaborn as sns\n",
    "import matplotlib.pyplot as plt\n",
    "\n",
    "petrol_df = pd.read_csv('../data/raw/petrol_price.csv')\n",
    "sales_df = pd.read_csv('../data/raw/product_sales.csv')\n",
    "\n",
    "# Quick view\n",
    "display(petrol_df.head())\n",
    "display(sales_df.head())\n",
    "\n",
    "# Visualization\n",
    "sns.barplot(x='Product', y='Units_Sold', data=sales_df)\n",
    "plt.title(\"Units Sold per Product\")\n",
    "plt.xticks(rotation=45)\n",
    "plt.show()\n",
    "\n",
    "sns.boxplot(x='Category', y='Profit_Per_Unit', data=sales_df)\n",
    "plt.title(\"Profit per Unit by Category\")\n",
    "plt.show()\n"
   ]
  }
 ],
 "metadata": {
  "language_info": {
   "name": "python"
  }
 },
 "nbformat": 4,
 "nbformat_minor": 5
}
