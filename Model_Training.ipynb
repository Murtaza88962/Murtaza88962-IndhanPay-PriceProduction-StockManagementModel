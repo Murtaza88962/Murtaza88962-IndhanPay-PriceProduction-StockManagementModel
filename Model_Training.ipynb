{
 "cells": [
  {
   "cell_type": "markdown",
   "id": "04c20c14",
   "metadata": {},
   "source": [
    "# Model Training\n",
    "\n",
    "Train Random Forest model on sales data.\n"
   ]
  },
  {
   "cell_type": "code",
   "execution_count": null,
   "id": "63302ebe",
   "metadata": {},
   "outputs": [],
   "source": [
    "import sys\n",
    "sys.path.append('../src')\n",
    "\n",
    "from data_preprocessing import load_data, preprocess_data\n",
    "from model_training import train_random_forest, save_model\n",
    "\n",
    "# Load\n",
    "petrol_df, sales_df = load_data('../data/raw/petrol_price.csv', '../data/raw/product_sales.csv')\n",
    "\n",
    "# Preprocess\n",
    "X, y = preprocess_data(petrol_df, sales_df)\n",
    "\n",
    "# Train\n",
    "model = train_random_forest(X, y)\n",
    "\n",
    "# Save\n",
    "save_model(model, '../data/processed/random_forest_model.pkl')\n"
   ]
  }
 ],
 "metadata": {
  "kernelspec": {
   "display_name": ".venv",
   "language": "python",
   "name": "python3"
  },
  "language_info": {
   "name": "python",
   "version": "3.13.3"
  }
 },
 "nbformat": 4,
 "nbformat_minor": 5
}
